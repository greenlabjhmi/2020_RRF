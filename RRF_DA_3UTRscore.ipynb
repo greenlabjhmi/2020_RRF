{
 "cells": [
  {
   "cell_type": "code",
   "execution_count": 1,
   "metadata": {
    "collapsed": true
   },
   "outputs": [],
   "source": [
    "import pickle\n",
    "import numpy as np\n",
    "from pandas import Series, DataFrame\n",
    "import pandas as pd\n",
    "import matplotlib.pyplot as plt\n",
    "import matplotlib as mpl\n",
    "from matplotlib import mlab\n",
    "import seaborn as sns\n",
    "%matplotlib inline\n",
    "\n",
    "mpl.rcParams['xtick.direction'] = 'out'\n",
    "mpl.rcParams['ytick.direction'] = 'out'"
   ]
  },
  {
   "cell_type": "code",
   "execution_count": 2,
   "metadata": {
    "collapsed": true
   },
   "outputs": [],
   "source": [
    "df_base_CDS = pd.read_csv('rrf_CDS.csv')\n",
    "df_base_CDS = df_base_CDS.loc[:,~df_base_CDS.columns.str.contains('^Unnamed')]"
   ]
  },
  {
   "cell_type": "code",
   "execution_count": 3,
   "metadata": {
    "collapsed": true
   },
   "outputs": [],
   "source": [
    "files = ['ks' + str(x) for x in range(5,23)]\n",
    "for f in files:\n",
    "    df_base_CDS[f+'_utr/orf']=df_base_CDS[f+'_3utr_rpkm']/df_base_CDS[f+'_rpkm']"
   ]
  },
  {
   "cell_type": "code",
   "execution_count": 4,
   "metadata": {},
   "outputs": [
    {
     "name": "stdout",
     "output_type": "stream",
     "text": [
      "ks5 has the median of -3.7354060173681227\n",
      "ks11 has the median of -5.1728103924858875\n",
      "ks8 has the median of -1.5596436183691007\n",
      "ks14 has the median of -2.8699773114571006\n",
      "ks9 has the median of -1.5734426900716016\n",
      "ks15 has the median of -2.496831590442491\n",
      "ks10 has the median of -0.7302584921702229\n",
      "ks16 has the median of -1.5996702860778076\n"
     ]
    }
   ],
   "source": [
    "distribution_list = []\n",
    "\n",
    "f = 'ks5'\n",
    "distribution = df_base_CDS[f+'_utr/orf'].apply(np.log2).replace([np.inf,-np.inf],np.nan).dropna()\n",
    "distribution_list.append(distribution)\n",
    "print f+' has the median of '+str(np.median(distribution))\n",
    "\n",
    "f = 'ks11'\n",
    "distribution = df_base_CDS[f+'_utr/orf'].apply(np.log2).replace([np.inf,-np.inf],np.nan).dropna()\n",
    "distribution_list.append(distribution)\n",
    "print f+' has the median of '+str(np.median(distribution))\n",
    "\n",
    "\"\"\"\n",
    "f = 'ks6'\n",
    "distribution = df_base_CDS[f+'_utr/orf'].apply(np.log2).replace([np.inf,-np.inf],np.nan).dropna()\n",
    "distribution_list.append(distribution)\n",
    "print f+' has the median of '+str(np.median(distribution))\n",
    "\n",
    "f = 'ks12'\n",
    "distribution = df_base_CDS[f+'_utr/orf'].apply(np.log2).replace([np.inf,-np.inf],np.nan).dropna()\n",
    "distribution_list.append(distribution)\n",
    "print f+' has the median of '+str(np.median(distribution))\n",
    "\n",
    "f = 'ks7'\n",
    "distribution = df_base_CDS[f+'_utr/orf'].apply(np.log2).replace([np.inf,-np.inf],np.nan).dropna()\n",
    "distribution_list.append(distribution)\n",
    "print f+' has the median of '+str(np.median(distribution))\n",
    "\n",
    "f = 'ks13'\n",
    "distribution = df_base_CDS[f+'_utr/orf'].apply(np.log2).replace([np.inf,-np.inf],np.nan).dropna()\n",
    "distribution_list.append(distribution)\n",
    "print f+' has the median of '+str(np.median(distribution))\n",
    "\"\"\"\n",
    "\n",
    "f = 'ks8'\n",
    "distribution = df_base_CDS[f+'_utr/orf'].apply(np.log2).replace([np.inf,-np.inf],np.nan).dropna()\n",
    "distribution_list.append(distribution)\n",
    "print f+' has the median of '+str(np.median(distribution))\n",
    "\n",
    "f = 'ks14'\n",
    "distribution = df_base_CDS[f+'_utr/orf'].apply(np.log2).replace([np.inf,-np.inf],np.nan).dropna()\n",
    "distribution_list.append(distribution)\n",
    "print f+' has the median of '+str(np.median(distribution))\n",
    "\n",
    "f = 'ks9'\n",
    "distribution = df_base_CDS[f+'_utr/orf'].apply(np.log2).replace([np.inf,-np.inf],np.nan).dropna()\n",
    "distribution_list.append(distribution)\n",
    "print f+' has the median of '+str(np.median(distribution))\n",
    "\n",
    "f = 'ks15'\n",
    "distribution = df_base_CDS[f+'_utr/orf'].apply(np.log2).replace([np.inf,-np.inf],np.nan).dropna()\n",
    "distribution_list.append(distribution)\n",
    "print f+' has the median of '+str(np.median(distribution))\n",
    "\n",
    "f = 'ks10'\n",
    "distribution = df_base_CDS[f+'_utr/orf'].apply(np.log2).replace([np.inf,-np.inf],np.nan).dropna()\n",
    "distribution_list.append(distribution)\n",
    "print f+' has the median of '+str(np.median(distribution))\n",
    "\n",
    "f = 'ks16'\n",
    "distribution = df_base_CDS[f+'_utr/orf'].apply(np.log2).replace([np.inf,-np.inf],np.nan).dropna()\n",
    "distribution_list.append(distribution)\n",
    "print f+' has the median of '+str(np.median(distribution))"
   ]
  },
  {
   "cell_type": "code",
   "execution_count": 5,
   "metadata": {},
   "outputs": [
    {
     "data": {
      "image/png": "[encoded data removed]",
      "text/plain": [
       "<Figure size 1500x1000 with 1 Axes>"
      ]
     },
     "metadata": {},
     "output_type": "display_data"
    }
   ],
   "source": [
    "fig, ax = plt.subplots()\n",
    "fig.set_dpi(500)\n",
    "fig.set_size_inches(3, 2)\n",
    "\n",
    "ax = sns.boxplot(data=distribution_list,\n",
    "                 showfliers=False,\n",
    "                 linewidth=1,\n",
    "                palette=['silver','dimgrey',\n",
    "                  'coral','coral','red','red','firebrick','firebrick'],\n",
    "                capprops={'color': 'black', 'linewidth': 1,\"zorder\":10},\n",
    "                 medianprops = {'color': 'black', 'linewidth': 2,\"zorder\":20}, \n",
    "                 boxprops = {'edgecolor': 'black', 'linewidth': 0, \"zorder\":10},\n",
    "                 whiskerprops={'color': 'black','linewidth':1, \"zorder\":10})\n",
    "\n",
    "#ax.axhline(y=0,linewidth=1, color='dimgrey',linestyle='--')\n",
    "\n",
    "ax.xaxis.set_ticks_position('bottom')\n",
    "ax.yaxis.set_ticks_position('left')\n",
    "sns.despine()\n",
    "plt.xticks([0,1,2,3,4,5,6,7],['','','','','','','',''])\n",
    "plt.ylim(-13,4.5)\n",
    "plt.yticks([-10,-5,0],['','','',''])\n",
    "plt.tick_params(labelsize=7)\n",
    "plt.savefig('figs_highlow/fig_box_normalVSNacl_NC.pdf', dpi=500)"
   ]
  },
  {
   "cell_type": "code",
   "execution_count": null,
   "metadata": {
    "collapsed": true
   },
   "outputs": [],
   "source": []
  },
  {
   "cell_type": "code",
   "execution_count": null,
   "metadata": {
    "collapsed": true
   },
   "outputs": [],
   "source": []
  },
  {
   "cell_type": "code",
   "execution_count": null,
   "metadata": {
    "collapsed": true
   },
   "outputs": [],
   "source": []
  },
  {
   "cell_type": "code",
   "execution_count": null,
   "metadata": {
    "collapsed": true
   },
   "outputs": [],
   "source": []
  },
  {
   "cell_type": "code",
   "execution_count": null,
   "metadata": {
    "collapsed": true
   },
   "outputs": [],
   "source": []
  },
  {
   "cell_type": "code",
   "execution_count": null,
   "metadata": {
    "collapsed": true
   },
   "outputs": [],
   "source": []
  },
  {
   "cell_type": "code",
   "execution_count": null,
   "metadata": {
    "collapsed": true
   },
   "outputs": [],
   "source": []
  }
 ],
 "metadata": {
  "kernelspec": {
   "display_name": "Python 2",
   "language": "python",
   "name": "python2"
  },
  "language_info": {
   "codemirror_mode": {
    "name": "ipython",
    "version": 2
   },
   "file_extension": ".py",
   "mimetype": "text/x-python",
   "name": "python",
   "nbconvert_exporter": "python",
   "pygments_lexer": "ipython2",
   "version": "2.7.15"
  }
 },
 "nbformat": 4,
 "nbformat_minor": 2
}
