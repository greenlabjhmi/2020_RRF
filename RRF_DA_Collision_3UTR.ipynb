{
 "cells": [
  {
   "cell_type": "code",
   "execution_count": 24,
   "metadata": {
    "collapsed": true
   },
   "outputs": [],
   "source": [
    "import warnings\n",
    "warnings.filterwarnings('ignore')"
   ]
  },
  {
   "cell_type": "code",
   "execution_count": 25,
   "metadata": {
    "collapsed": true
   },
   "outputs": [],
   "source": [
    "import pickle\n",
    "import numpy as np\n",
    "from pandas import Series, DataFrame\n",
    "import pandas as pd\n",
    "import matplotlib.pyplot as plt\n",
    "import matplotlib as mpl\n",
    "from matplotlib import mlab\n",
    "import seaborn as sns\n",
    "%matplotlib inline\n",
    "\n",
    "mpl.rcParams['xtick.direction'] = 'out'\n",
    "mpl.rcParams['ytick.direction'] = 'out'"
   ]
  },
  {
   "cell_type": "code",
   "execution_count": 26,
   "metadata": {
    "collapsed": true
   },
   "outputs": [],
   "source": [
    "def RCRPM_loading(RC,RPM,filename,endtype,densitypath):\n",
    "    with open(densitypath+filename+endtype+'_readcounts.pickle', 'rb') as f:\n",
    "        RC[filename]=pickle.load(f)\n",
    "    with open(densitypath+filename+endtype+'_rpm.pickle', 'rb') as f:\n",
    "        RPM[filename]=pickle.load(f)\n",
    "    #return [rcs,rpms]"
   ]
  },
  {
   "cell_type": "code",
   "execution_count": 27,
   "metadata": {},
   "outputs": [
    {
     "name": "stdout",
     "output_type": "stream",
     "text": [
      "done\n"
     ]
    }
   ],
   "source": [
    "import multiprocessing\n",
    "import pickle\n",
    "import threading\n",
    "from datetime import datetime\n",
    "\n",
    "#RC ={} somehow I need to do below to assign this dict to get the value evalutated from the RCRPM_loading\n",
    "#RPM = {} somehow I need to do below to assign this dict to get the value evalutated from the RCRPM_loading\n",
    "manager = multiprocessing.Manager()\n",
    "RC = manager.dict()\n",
    "RPM = manager.dict()\n",
    "\n",
    "jobs = []\n",
    "\n",
    "    \n",
    "filenames = ['ks'+str(x) for x in range(5,17)]\n",
    "endtype = '_3map'\n",
    "densitypath = '/home/kazuki/^profilingdata/20160420_reanalyze/density/'\n",
    "for filename in filenames:\n",
    "    job = multiprocessing.Process(target=RCRPM_loading, args=(RC,RPM,filename,endtype,densitypath))\n",
    "    jobs.append(job)\n",
    "    job.start()   \n",
    "    \n",
    "    \n",
    "filenames = ['ks'+str(x) for x in range(31,43)]\n",
    "endtype = '_3map'\n",
    "densitypath = '/home/kazuki/^profilingdata/20161108_reanalyze/density/'\n",
    "for filename in filenames:\n",
    "    job = multiprocessing.Process(target=RCRPM_loading, args=(RC,RPM,filename,endtype,densitypath))\n",
    "    jobs.append(job)\n",
    "    job.start()     \n",
    "    \n",
    "    \n",
    "[job.join() for job in jobs] # just to get the time by the below line\n",
    "\n",
    "print('done')"
   ]
  },
  {
   "cell_type": "markdown",
   "metadata": {},
   "source": [
    "# Collision score"
   ]
  },
  {
   "cell_type": "code",
   "execution_count": 28,
   "metadata": {
    "collapsed": true,
    "scrolled": true
   },
   "outputs": [],
   "source": [
    "import pickle\n",
    "with open('/home/kazuki/^data_analysis/^Ecoli_Genome/Ecoli_Gene_TU.pickle','rb') as f:\n",
    "    Gene_TU_dict = pickle.load(f)"
   ]
  },
  {
   "cell_type": "code",
   "execution_count": 29,
   "metadata": {
    "collapsed": true
   },
   "outputs": [],
   "source": [
    "rpkm_dict = {} \n",
    "asymmetry_dict = {}\n",
    "files = ['ks'+str(x) for x in range(5,17)]\n",
    "for f in files:\n",
    "    rpm=RPM[f]\n",
    "    plus_rpm = rpm[0][rpm[0].keys()[0]]\n",
    "    minus_rpm = rpm[1][rpm[1].keys()[0]]\n",
    "    \n",
    "    rpkm_dict[f]={}\n",
    "    asymmetry_dict[f]={}\n",
    "    \n",
    "    for key in Gene_TU_dict.keys():\n",
    "        if key in asymmetry_dict.keys() or key in rpkm_dict.keys():\n",
    "            print key +' is overlapping!!!'\n",
    "            continue\n",
    "        start = int(Gene_TU_dict[key][2])-1\n",
    "        end = int(Gene_TU_dict[key][3])\n",
    "        length = end-start\n",
    "        if length < 500:\n",
    "            continue        \n",
    "        if Gene_TU_dict[key][0] == '+':\n",
    "            last_start = end-100\n",
    "            last_end = end+15-15\n",
    "            allarea = float(sum(plus_rpm[start+15+15:end+15-15]))/float(((end+15-15)-(start+15+15))/1000.0)\n",
    "            last = float(sum(plus_rpm[last_start:last_end]))/float((last_end-last_start)/1000.0)\n",
    "            if allarea != 0:\n",
    "                asymmetry = last/allarea\n",
    "                asymmetry_dict[f][key]=np.log2(asymmetry)\n",
    "        if Gene_TU_dict[key][0] == '-':\n",
    "            last_start = start-15+15\n",
    "            last_end = start-15+15+100\n",
    "            allarea = float(sum(minus_rpm[start-15+15:end-15-15]))/float(((end+15-15)-(start+15+15))/1000.0)\n",
    "            last = float(sum(minus_rpm[last_start:last_end]))/float((last_end-last_start)/1000.0)          \n",
    "            if allarea != 0:\n",
    "                asymmetry = last/allarea\n",
    "                asymmetry_dict[f][key]=np.log2(asymmetry)\n",
    "                \n",
    "                rpkm_dict[f][key] = allarea"
   ]
  },
  {
   "cell_type": "code",
   "execution_count": 30,
   "metadata": {
    "collapsed": true
   },
   "outputs": [],
   "source": [
    "df_base_CDS = pd.read_csv('rrf_CDS.csv')\n",
    "df_base_CDS = df_base_CDS.loc[:,~df_base_CDS.columns.str.contains('^Unnamed')]"
   ]
  },
  {
   "cell_type": "code",
   "execution_count": 31,
   "metadata": {},
   "outputs": [
    {
     "name": "stdout",
     "output_type": "stream",
     "text": [
      "MannwhitneyuResult(statistic=32219.0, pvalue=7.602240752647995e-23)\n",
      "MannwhitneyuResult(statistic=31384.0, pvalue=6.592143497946345e-16)\n",
      "MannwhitneyuResult(statistic=53348.0, pvalue=5.368395251616874e-15)\n"
     ]
    }
   ],
   "source": [
    "data_masta = []\n",
    "\n",
    "library_list = ['ks'+str(x) for x in range(14,17)] # high salt\n",
    "mRNA_library_list = ['ks'+str(x) for x in range(20,23)]\n",
    "\n",
    "for library,mRNA_library in zip(library_list,mRNA_library_list):\n",
    "    ##########################################################################################\n",
    "    good_1 = df_base_CDS[library+'_rpc']>0.05\n",
    "    good_2 = df_base_CDS[mRNA_library+'_rpc']>0.05\n",
    "\n",
    "    low_TE = df_base_CDS['TE_'+library+'/'+mRNA_library]<df_base_CDS['TE_'+library+'/'+mRNA_library].quantile(0.40)\n",
    "    low_TE_genes = []\n",
    "    for gene in df_base_CDS[low_TE&good_1&good_2]['gene'].values:\n",
    "        low_TE_genes.append(gene)\n",
    "        \n",
    "    high_TE = df_base_CDS['TE_'+library+'/'+mRNA_library]>df_base_CDS['TE_'+library+'/'+mRNA_library].quantile(0.80)\n",
    "    high_TE_genes = []\n",
    "    for gene in df_base_CDS[high_TE&good_1&good_2]['gene'].values:\n",
    "        high_TE_genes.append(gene)\n",
    "    ##########################################################################################\n",
    "\n",
    "    data = []\n",
    "    for gene  in asymmetry_dict[library].keys():\n",
    "        if gene in low_TE_genes:\n",
    "            data.append(asymmetry_dict[library][gene])\n",
    "    data_masta.append(data)\n",
    "\n",
    "    data = []\n",
    "    for gene  in asymmetry_dict[library].keys():\n",
    "        if gene in high_TE_genes:\n",
    "            data.append(asymmetry_dict[library][gene])   \n",
    "    data_masta.append(data)\n",
    "\n",
    "import scipy\n",
    "x=0\n",
    "while x <6:\n",
    "    print scipy.stats.mannwhitneyu(data_masta[x], data_masta[x+1], use_continuity=True, alternative=None)\n",
    "    x+=2"
   ]
  },
  {
   "cell_type": "code",
   "execution_count": 32,
   "metadata": {},
   "outputs": [
    {
     "data": {
      "text/plain": [
       "([<matplotlib.axis.YTick at 0x7f5d6ba70310>,\n",
       "  <matplotlib.axis.YTick at 0x7f5d70977d90>,\n",
       "  <matplotlib.axis.YTick at 0x7f5d6bfdad50>,\n",
       "  <matplotlib.axis.YTick at 0x7f5d6ba03250>,\n",
       "  <matplotlib.axis.YTick at 0x7f5d6ba039d0>],\n",
       " <a list of 5 Text yticklabel objects>)"
      ]
     },
     "execution_count": 32,
     "metadata": {},
     "output_type": "execute_result"
    },
    {
     "data": {
      "image/png": "[encoded data removed]",
      "text/plain": [
       "<Figure size 1500x1000 with 1 Axes>"
      ]
     },
     "metadata": {},
     "output_type": "display_data"
    }
   ],
   "source": [
    "data_reorder = []\n",
    "x = 0\n",
    "while x < 6:\n",
    "    data_reorder.append(data_masta[x])\n",
    "    x+=2\n",
    "x = 1\n",
    "while x < 7:\n",
    "    data_reorder.append(data_masta[x])\n",
    "    x+=2\n",
    "\n",
    "fig, ax = plt.subplots()\n",
    "fig.set_dpi(500)\n",
    "fig.set_size_inches(3, 2)\n",
    "\n",
    "ax = sns.boxplot(data=data_reorder,\n",
    "                 showfliers=False,\n",
    "                 linewidth=1,\n",
    "                palette=[\n",
    "                  'coral','red','firebrick','c','darkcyan','darkslategray'],\n",
    "                capprops={'color': 'black', 'linewidth': 1,\"zorder\":10},\n",
    "                 medianprops = {'color': 'black', 'linewidth': 2,\"zorder\":20}, \n",
    "                 boxprops = {'edgecolor': 'black', 'linewidth': 0, \"zorder\":10},\n",
    "                 whiskerprops={'color': 'black','linewidth':1, \"zorder\":10})\n",
    "\n",
    "#ax.axhline(y=0,linewidth=1, color='dimgrey',linestyle='--')\n",
    "\n",
    "ax.xaxis.set_ticks_position('bottom')\n",
    "ax.yaxis.set_ticks_position('left')\n",
    "sns.despine()\n",
    "plt.tick_params(labelsize=7)\n",
    "plt.ylim(-2.4,2.3)\n",
    "plt.yticks([-2,-1,0,1,2])\n",
    "#plt.savefig('figs_highlow/fig_collided.pdf', dpi=500)"
   ]
  },
  {
   "cell_type": "markdown",
   "metadata": {
    "collapsed": true
   },
   "source": [
    "# 3UTR score"
   ]
  },
  {
   "cell_type": "code",
   "execution_count": 33,
   "metadata": {
    "collapsed": true
   },
   "outputs": [],
   "source": [
    "files = ['ks' + str(x) for x in range(5,23)]\n",
    "for f in files:\n",
    "    df_base_CDS[f+'_utr/orf']=df_base_CDS[f+'_3utr_rpkm']/df_base_CDS[f+'_rpkm']"
   ]
  },
  {
   "cell_type": "code",
   "execution_count": 34,
   "metadata": {},
   "outputs": [
    {
     "name": "stdout",
     "output_type": "stream",
     "text": [
      "MannwhitneyuResult(statistic=27558.0, pvalue=7.311456685816035e-84)\n",
      "MannwhitneyuResult(statistic=26561.0, pvalue=9.963362090769901e-75)\n",
      "MannwhitneyuResult(statistic=60448.0, pvalue=3.8644193351791435e-58)\n"
     ]
    }
   ],
   "source": [
    "data_masta__2 = []\n",
    "\n",
    "library_list = ['ks'+str(x) for x in range(14,17)] # high salt\n",
    "mRNA_library_list = ['ks'+str(x) for x in range(20,23)]\n",
    "\n",
    "for library,mRNA_library in zip(library_list,mRNA_library_list):\n",
    "    ##########################################################################################\n",
    "    good_1 = df_base_CDS[library+'_rpc']>0.1\n",
    "    good_2 = df_base_CDS[mRNA_library+'_rpc']>0.1\n",
    "\n",
    "    low_TE = df_base_CDS['TE_'+library+'/'+mRNA_library]<df_base_CDS['TE_'+library+'/'+mRNA_library].quantile(0.40)\n",
    "    data_masta__2.append(df_base_CDS[low_TE&good_1&good_2][library+'_utr/orf'].apply(np.log2).replace([np.inf,-np.inf],np.nan))\n",
    "        \n",
    "    high_TE = df_base_CDS['TE_'+library+'/'+mRNA_library]>df_base_CDS['TE_'+library+'/'+mRNA_library].quantile(0.80)\n",
    "    data_masta__2.append(df_base_CDS[high_TE&good_1&good_2][library+'_utr/orf'].apply(np.log2).replace([np.inf,-np.inf],np.nan))\n",
    "    \n",
    "import scipy\n",
    "x=0\n",
    "while x <6:\n",
    "    print scipy.stats.mannwhitneyu(data_masta__2[x], data_masta__2[x+1], use_continuity=True, alternative=None)\n",
    "    x+=2"
   ]
  },
  {
   "cell_type": "code",
   "execution_count": 35,
   "metadata": {},
   "outputs": [
    {
     "data": {
      "text/plain": [
       "([<matplotlib.axis.YTick at 0x7f5d6bfe5d10>,\n",
       "  <matplotlib.axis.YTick at 0x7f5d70775590>,\n",
       "  <matplotlib.axis.YTick at 0x7f5cbbdf87d0>],\n",
       " <a list of 3 Text yticklabel objects>)"
      ]
     },
     "execution_count": 35,
     "metadata": {},
     "output_type": "execute_result"
    },
    {
     "data": {
      "image/png": "[encoded data removed]",
      "text/plain": [
       "<Figure size 1500x1000 with 1 Axes>"
      ]
     },
     "metadata": {},
     "output_type": "display_data"
    }
   ],
   "source": [
    "data_reorder__2 = []\n",
    "x = 0\n",
    "while x < 6:\n",
    "    data_reorder__2.append(data_masta__2[x])\n",
    "    x+=2\n",
    "x = 1\n",
    "while x < 7:\n",
    "    data_reorder__2.append(data_masta__2[x])\n",
    "    x+=2\n",
    "\n",
    "fig, ax = plt.subplots()\n",
    "fig.set_dpi(500)\n",
    "fig.set_size_inches(3, 2)\n",
    "\n",
    "ax = sns.boxplot(data=data_reorder__2,\n",
    "                 showfliers=False,\n",
    "                 linewidth=1,\n",
    "                palette=[\n",
    "                  'coral','red','firebrick','c','darkcyan','darkslategray'],\n",
    "                capprops={'color': 'black', 'linewidth': 1,\"zorder\":10},\n",
    "                 medianprops = {'color': 'black', 'linewidth': 2,\"zorder\":20}, \n",
    "                 boxprops = {'edgecolor': 'black', 'linewidth': 0, \"zorder\":10},\n",
    "                 whiskerprops={'color': 'black','linewidth':1, \"zorder\":10})\n",
    "\n",
    "#ax.axhline(y=0,linewidth=1, color='dimgrey',linestyle='--')\n",
    "\n",
    "ax.xaxis.set_ticks_position('bottom')\n",
    "ax.yaxis.set_ticks_position('left')\n",
    "sns.despine()\n",
    "plt.tick_params(labelsize=7)\n",
    "plt.ylim(-9.2,3)\n",
    "plt.yticks([-6,-2,2])\n",
    "#plt.savefig('figs_highlow/fig_utrorf.pdf', dpi=500)"
   ]
  },
  {
   "cell_type": "code",
   "execution_count": null,
   "metadata": {
    "collapsed": true
   },
   "outputs": [],
   "source": []
  },
  {
   "cell_type": "code",
   "execution_count": null,
   "metadata": {
    "collapsed": true
   },
   "outputs": [],
   "source": []
  },
  {
   "cell_type": "code",
   "execution_count": null,
   "metadata": {
    "collapsed": true
   },
   "outputs": [],
   "source": []
  }
 ],
 "metadata": {
  "kernelspec": {
   "display_name": "Python 2",
   "language": "python",
   "name": "python2"
  },
  "language_info": {
   "codemirror_mode": {
    "name": "ipython",
    "version": 2
   },
   "file_extension": ".py",
   "mimetype": "text/x-python",
   "name": "python",
   "nbconvert_exporter": "python",
   "pygments_lexer": "ipython2",
   "version": "2.7.15"
  }
 },
 "nbformat": 4,
 "nbformat_minor": 2
}
